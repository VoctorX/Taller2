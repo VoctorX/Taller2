{
 "cells": [
  {
   "cell_type": "markdown",
   "id": "78b14415",
   "metadata": {},
   "source": [
    "# Conjuntos - Feibert\n"
   ]
  },
  {
   "cell_type": "code",
   "execution_count": 15,
   "id": "edcbf467",
   "metadata": {},
   "outputs": [
    {
     "name": "stdout",
     "output_type": "stream",
     "text": [
      "{'manzana', 'pera', 'naranja', 'plátano'}\n"
     ]
    }
   ],
   "source": [
    "# Crear un conjunto con frutas (duplicados se eliminan automáticamente)\n",
    "frutas = {'manzana', 'naranja', 'manzana', 'pera', 'naranja', 'plátano'}\n",
    "print(frutas)  # {'naranja', 'plátano', 'pera', 'manzana'}\n"
   ]
  },
  {
   "cell_type": "code",
   "execution_count": 16,
   "id": "673c38d2",
   "metadata": {},
   "outputs": [
    {
     "name": "stdout",
     "output_type": "stream",
     "text": [
      "True\n",
      "False\n"
     ]
    }
   ],
   "source": [
    "\n",
    "# Verificar pertenencia (muy rápido)\n",
    "print('naranja' in frutas)  # True\n",
    "print('uva' in frutas)      # False\n"
   ]
  },
  {
   "cell_type": "code",
   "execution_count": 17,
   "id": "86228754",
   "metadata": {},
   "outputs": [
    {
     "name": "stdout",
     "output_type": "stream",
     "text": [
      "{'b', 'c', 'd', 'a', 'r'}\n",
      "5\n"
     ]
    }
   ],
   "source": [
    "\n",
    "# Crear conjunto desde una cadena\n",
    "letras_unicas = set('abracadabra')\n",
    "print(letras_unicas)  # {'a', 'r', 'b', 'c', 'd'}\n",
    "print(len(letras_unicas)) "
   ]
  },
  {
   "cell_type": "markdown",
   "id": "a96b632c",
   "metadata": {},
   "source": [
    "# Diccionarios"
   ]
  },
  {
   "cell_type": "code",
   "execution_count": 18,
   "id": "1efe6a4c",
   "metadata": {},
   "outputs": [
    {
     "data": {
      "text/plain": [
       "[{'nombre': 'Ana', 'edad': 15, 'carrera': 'Ingeniería', 'notas': [5, 3, 4]},\n",
       " {'nombre': 'Victor', 'edad': 18, 'carrera': 'Ingeniería', 'notas': [5, 4, 5]},\n",
       " {'nombre': 'Sara', 'edad': 19, 'carrera': 'Psicologia', 'notas': [3, 4, 5]}]"
      ]
     },
     "execution_count": 18,
     "metadata": {},
     "output_type": "execute_result"
    }
   ],
   "source": [
    "# Diccionario de ejemplo\n",
    "estudiante = [\n",
    "    {'nombre': 'Ana',\n",
    "    'edad': 15,\n",
    "    'carrera': 'Ingeniería',\n",
    "    'notas': [5, 3, 4]},\n",
    "    {'nombre': 'Victor',\n",
    "    'edad': 18,\n",
    "    'carrera': 'Ingeniería',\n",
    "    'notas': [5, 4, 5]},\n",
    "    {'nombre': 'Sara',\n",
    "    'edad': 19,\n",
    "    'carrera': 'Psicologia',\n",
    "    'notas': [3, 4, 5]}\n",
    "]\n",
    "estudiante\n"
   ]
  },
  {
   "cell_type": "code",
   "execution_count": 19,
   "id": "008aff47",
   "metadata": {},
   "outputs": [
    {
     "name": "stdout",
     "output_type": "stream",
     "text": [
      "21\n"
     ]
    },
    {
     "data": {
      "text/plain": [
       "[{'nombre': 'Ana', 'edad': 21, 'carrera': 'Ingeniería', 'notas': [5, 3, 4]},\n",
       " {'nombre': 'Victor', 'edad': 18, 'carrera': 'Ingeniería', 'notas': [5, 4, 5]},\n",
       " {'nombre': 'Sara', 'edad': 19, 'carrera': 'Psicologia', 'notas': [3, 4, 5]}]"
      ]
     },
     "execution_count": 19,
     "metadata": {},
     "output_type": "execute_result"
    }
   ],
   "source": [
    "# Modificar valor\n",
    "estudiante[0]['edad'] = 21\n",
    "print(estudiante[0]['edad'])\n",
    "estudiante"
   ]
  },
  {
   "cell_type": "code",
   "execution_count": 20,
   "id": "d2078af2",
   "metadata": {},
   "outputs": [],
   "source": [
    "# Eliminar clave\n",
    "del estudiante[0]['carrera']\n"
   ]
  },
  {
   "cell_type": "code",
   "execution_count": 21,
   "id": "34d3f46a",
   "metadata": {},
   "outputs": [
    {
     "name": "stdout",
     "output_type": "stream",
     "text": [
      "False\n",
      "False\n"
     ]
    }
   ],
   "source": [
    "# Verificar si existe clave\n",
    "print('nombre' in estudiante)  # True\n",
    "print('carrera' in estudiante)  # False\n"
   ]
  },
  {
   "cell_type": "code",
   "execution_count": 22,
   "id": "ab1ec876",
   "metadata": {},
   "outputs": [
    {
     "ename": "AttributeError",
     "evalue": "'list' object has no attribute 'keys'",
     "output_type": "error",
     "traceback": [
      "\u001b[31m---------------------------------------------------------------------------\u001b[39m",
      "\u001b[31mAttributeError\u001b[39m                            Traceback (most recent call last)",
      "\u001b[36mCell\u001b[39m\u001b[36m \u001b[39m\u001b[32mIn[22]\u001b[39m\u001b[32m, line 2\u001b[39m\n\u001b[32m      1\u001b[39m \u001b[38;5;66;03m# Obtener todas las claves\u001b[39;00m\n\u001b[32m----> \u001b[39m\u001b[32m2\u001b[39m claves = \u001b[38;5;28mlist\u001b[39m(\u001b[43mestudiante\u001b[49m\u001b[43m.\u001b[49m\u001b[43mkeys\u001b[49m())\n\u001b[32m      3\u001b[39m \u001b[38;5;28mprint\u001b[39m(claves)\n",
      "\u001b[31mAttributeError\u001b[39m: 'list' object has no attribute 'keys'"
     ]
    }
   ],
   "source": [
    "# Obtener todas las claves\n",
    "claves = list(estudiante.keys())\n",
    "print(claves)\n"
   ]
  },
  {
   "cell_type": "code",
   "execution_count": null,
   "id": "d91bb184",
   "metadata": {},
   "outputs": [],
   "source": [
    "# Obtener todos los valores\n",
    "valores = list(estudiante.values())\n",
    "print(valores)  # ['Ana', 21, [85, 90, 78]]"
   ]
  },
  {
   "cell_type": "markdown",
   "id": "d9ec8449",
   "metadata": {},
   "source": [
    "# Listas como Pilas"
   ]
  },
  {
   "cell_type": "code",
   "execution_count": 23,
   "id": "dc722c6d",
   "metadata": {},
   "outputs": [
    {
     "name": "stdout",
     "output_type": "stream",
     "text": [
      "=== Demostración de la estructura de datos Pila (Stack) ===\n",
      "\n",
      "1. Pila recién creada: Pila(Tope <- []) | ¿Vacía? True\n",
      "\n",
      "2. Apilando (10, 20, 30, 40)...\n",
      "   Estado actual: Pila(Tope <- [10, 20, 30, 40])\n",
      "   Tope (peek): 40\n",
      "   Tamaño: 4\n",
      "\n",
      "3. Desapilando dos elementos (LIFO)...\n",
      "   Desapilado primero: 40\n",
      "   Desapilado segundo: 30\n",
      "   Estado actual: Pila(Tope <- [10, 20])\n",
      "   Nuevo tope: 20\n",
      "\n",
      "4. Ejemplo práctico: Invertir la palabra 'DATA' con la Pila.\n",
      "   Palabra original: DATA\n",
      "   Palabra invertida: ATAD\n"
     ]
    }
   ],
   "source": [
    "class Pila:\n",
    "    \"\"\"\n",
    "    Implementación de una estructura de datos Pila (Stack).\n",
    "    Funciona bajo el principio LIFO (Last In, First Out) usando una lista.\n",
    "    Las operaciones clave (apilar/desapilar) tienen complejidad O(1).\n",
    "    \"\"\"\n",
    "    def __init__(self):\n",
    "        \"\"\"Inicializa una pila vacía.\"\"\"\n",
    "        self.items = []\n",
    " \n",
    "    def apilar(self, elemento):\n",
    "        \"\"\"Agrega un elemento al tope de la pila (O(1)).\"\"\"\n",
    "        self.items.append(elemento)\n",
    " \n",
    "    def desapilar(self):\n",
    "        \"\"\"\n",
    "        Elimina y retorna el elemento del tope de la pila (O(1)).\n",
    "        Retorna: El elemento del tope, o None si la pila está vacía.\n",
    "        \"\"\"\n",
    "        if self.esta_vacia():\n",
    "            return None\n",
    "        return self.items.pop()\n",
    " \n",
    "    def ver_tope(self):\n",
    "        \"\"\"\n",
    "        Retorna el elemento del tope sin eliminarlo (O(1)).\n",
    "        Retorna: El elemento del tope, o None si la pila está vacía.\n",
    "        \"\"\"\n",
    "        if self.esta_vacia():\n",
    "            return None\n",
    "        # Acceder al último elemento de la lista\n",
    "        return self.items[-1]\n",
    " \n",
    "    def esta_vacia(self):\n",
    "        \"\"\"Verifica si la pila está vacía.\"\"\"\n",
    "        return not self.items # Es True si la lista está vacía (len == 0)\n",
    " \n",
    "    def tamano(self):\n",
    "        \"\"\"Retorna el número de elementos en la pila.\"\"\"\n",
    "        return len(self.items)\n",
    "    # --- Métodos Especiales de Python ---\n",
    "    def __len__(self):\n",
    "        \"\"\"Permite usar len(pila) para obtener el tamaño.\"\"\"\n",
    "        return len(self.items)\n",
    " \n",
    "    def __str__(self):\n",
    "        \"\"\"Representación legible para el usuario (p.ej., print(pila)).\"\"\"\n",
    "        # Muestra los elementos de la pila de forma intuitiva\n",
    "        return f\"Pila(Tope <- {self.items})\"\n",
    " \n",
    "    def __repr__(self):\n",
    "        \"\"\"Representación para desarrolladores (cómo se crearía el objeto).\"\"\"\n",
    "        return f\"Pila(items={self.items})\"\n",
    " \n",
    "# --------------------------------------------------\n",
    "# ===== DEMOSTRACIÓN DE USO (Bloque principal) =====\n",
    "# --------------------------------------------------\n",
    " \n",
    "if __name__ == \"__main__\":\n",
    "    print(\"=== Demostración de la estructura de datos Pila (Stack) ===\\n\")\n",
    "    mi_pila = Pila()\n",
    "    print(f\"1. Pila recién creada: {mi_pila} | ¿Vacía? {mi_pila.esta_vacia()}\")\n",
    "    # --- Apilar elementos ---\n",
    "    print(\"\\n2. Apilando (10, 20, 30, 40)...\")\n",
    "    mi_pila.apilar(10)\n",
    "    mi_pila.apilar(20)\n",
    "    mi_pila.apilar(30)\n",
    "    mi_pila.apilar(40)\n",
    "    print(f\"   Estado actual: {mi_pila}\")\n",
    "    print(f\"   Tope (peek): {mi_pila.ver_tope()}\")\n",
    "    print(f\"   Tamaño: {len(mi_pila)}\")\n",
    "    # --- Desapilar elementos (LIFO) ---\n",
    "    print(\"\\n3. Desapilando dos elementos (LIFO)...\")\n",
    "    elemento_1 = mi_pila.desapilar() # Sale 40\n",
    "    elemento_2 = mi_pila.desapilar() # Sale 30\n",
    "    print(f\"   Desapilado primero: {elemento_1}\")\n",
    "    print(f\"   Desapilado segundo: {elemento_2}\")\n",
    "    print(f\"   Estado actual: {mi_pila}\")\n",
    "    print(f\"   Nuevo tope: {mi_pila.ver_tope()}\")\n",
    "    # --- Ejemplo práctico: Invertir una palabra ---\n",
    "    print(\"\\n4. Ejemplo práctico: Invertir la palabra 'DATA' con la Pila.\")\n",
    "    palabra = \"DATA\"\n",
    "    pila_letras = Pila()\n",
    "    # Llenar la pila\n",
    "    for letra in palabra:\n",
    "        pila_letras.apilar(letra)\n",
    "    # Vaciar la pila para obtener la palabra invertida\n",
    "    palabra_invertida = \"\"\n",
    "    while not pila_letras.esta_vacia():\n",
    "        palabra_invertida += pila_letras.desapilar()\n",
    "    print(f\"   Palabra original: {palabra}\")\n",
    "    print(f\"   Palabra invertida: {palabra_invertida}\")"
   ]
  },
  {
   "cell_type": "markdown",
   "id": "7e249f82",
   "metadata": {},
   "source": [
    "# Listas Como Colas"
   ]
  },
  {
   "cell_type": "code",
   "execution_count": 24,
   "id": "b26f764b",
   "metadata": {},
   "outputs": [
    {
     "name": "stdout",
     "output_type": "stream",
     "text": [
      "📝 Pedido #1 agregado para Ana\n",
      "📝 Pedido #2 agregado para Carlos\n",
      "📝 Pedido #3 agregado para María\n",
      "📝 Pedido #4 agregado para Juan\n",
      "\\n📊 ESTADO DEL SISTEMA\n",
      "🔄 Pedidos pendientes: 4\n",
      "✅ Pedidos completados: 0\n",
      "\\n📋 Próximos pedidos:\n",
      "   1. #1 - Ana (3 items)\n",
      "   2. #2 - Carlos (2 items)\n",
      "   3. #3 - María (2 items)\n",
      "   4. #4 - Juan (2 items)\n",
      "\\n🍳 Procesando pedidos...\n",
      "✅ Pedido #1 completado para Ana\n",
      "✅ Pedido #2 completado para Carlos\n",
      "\\n📊 ESTADO DEL SISTEMA\n",
      "🔄 Pedidos pendientes: 2\n",
      "✅ Pedidos completados: 2\n",
      "\\n📋 Próximos pedidos:\n",
      "   1. #3 - María (2 items)\n",
      "   2. #4 - Juan (2 items)\n"
     ]
    }
   ],
   "source": [
    "# Ejemplo real: Sistema de gestión de pedidos de restaurante\n",
    "from collections import deque\n",
    "import time\n",
    "import random\n",
    "\n",
    "class SistemaPedidos:\n",
    "    def __init__(self):\n",
    "        self.pendientes = deque()  # Cola de pedidos pendientes\n",
    "        self.completados = []     # Lista de pedidos completados\n",
    "        self.numero_pedido = 1\n",
    "\n",
    "    def agregar_pedido(self, cliente, items):\n",
    "        \"\"\"Agrega un nuevo pedido a la cola\"\"\"\n",
    "        pedido = {\n",
    "            'numero': self.numero_pedido,\n",
    "            'cliente': cliente,\n",
    "            'items': items,\n",
    "            'hora': time.strftime(\"%H:%M:%S\"),\n",
    "            'estado': 'pendiente'\n",
    "        }\n",
    "        self.pendientes.append(pedido)\n",
    "        self.numero_pedido += 1\n",
    "        print(f\"📝 Pedido #{pedido['numero']} agregado para {cliente}\")\n",
    "        return pedido['numero']\n",
    "\n",
    "    def procesar_siguiente_pedido(self):\n",
    "        \"\"\"Procesa el siguiente pedido en la cola\"\"\"\n",
    "        if not self.pendientes:\n",
    "            print(\"⚠️ No hay pedidos pendientes\")\n",
    "            return None\n",
    "\n",
    "        pedido = self.pendientes.popleft()\n",
    "        pedido['estado'] = 'completado'\n",
    "        pedido['hora_completado'] = time.strftime(\"%H:%M:%S\")\n",
    "        self.completados.append(pedido)\n",
    "\n",
    "        print(f\"✅ Pedido #{pedido['numero']} completado para {pedido['cliente']}\")\n",
    "        return pedido\n",
    "\n",
    "    def mostrar_estado(self):\n",
    "        \"\"\"Muestra el estado actual del sistema\"\"\"\n",
    "        print(f\"\\\\n📊 ESTADO DEL SISTEMA\")\n",
    "        print(f\"🔄 Pedidos pendientes: {len(self.pendientes)}\")\n",
    "        print(f\"✅ Pedidos completados: {len(self.completados)}\")\n",
    "\n",
    "        if self.pendientes:\n",
    "            print(\"\\\\n📋 Próximos pedidos:\")\n",
    "            for i, pedido in enumerate(self.pendientes):\n",
    "                print(f\"   {i+1}. #{pedido['numero']} - {pedido['cliente']} ({len(pedido['items'])} items)\")\n",
    "\n",
    "# Simulación del sistema\n",
    "sistema = SistemaPedidos()\n",
    "\n",
    "# Agregar varios pedidos\n",
    "sistema.agregar_pedido(\"Ana\", [\"Hamburguesa\", \"Papas fritas\", \"Refresco\"])\n",
    "sistema.agregar_pedido(\"Carlos\", [\"Pizza familiar\", \"Ensalada\"])\n",
    "sistema.agregar_pedido(\"María\", [\"Sushi\", \"Sopa miso\"])\n",
    "sistema.agregar_pedido(\"Juan\", [\"Tacos\", \"Agua de horchata\"])\n",
    "\n",
    "# Mostrar estado inicial\n",
    "sistema.mostrar_estado()\n",
    "\n",
    "# Procesar algunos pedidos\n",
    "print(\"\\\\n🍳 Procesando pedidos...\")\n",
    "sistema.procesar_siguiente_pedido()\n",
    "sistema.procesar_siguiente_pedido()\n",
    "\n",
    "# Mostrar estado final\n",
    "sistema.mostrar_estado()"
   ]
  },
  {
   "cell_type": "markdown",
   "id": "46fe5611",
   "metadata": {},
   "source": [
    "# Comprension de Listas"
   ]
  },
  {
   "cell_type": "code",
   "execution_count": null,
   "id": "88cdd449",
   "metadata": {},
   "outputs": [],
   "source": [
    "\n",
    "# Consideremos un ejemplo donde se requiere **filtrar** una lista de temperaturas (*celsius*) y luego **transformar** (mapear) las que quedan a *fahrenheit*.\n",
    "\n",
    "celsius = [25, 30, 15, 35, 10, 20]\n",
    "\n",
    "# Tarea: Solo queremos las temperaturas mayores a 20°C, y las queremos en Fahrenheit.\n",
    "# Fórmula de mapeo (expresión): (C * 9/5) + 32\n",
    "# Condición de filtrado: C > 20\n",
    "\n",
    "fahrenheit = [(c * 9/5) + 32 for c in celsius if c > 20]\n",
    "\n",
    "print(fahrenheit)\n",
    "# Resultado: [77.0, 86.0, 95.0]"
   ]
  },
  {
   "cell_type": "markdown",
   "id": "56d683b7",
   "metadata": {},
   "source": [
    "# Lista por Compresion de listas Anidadas"
   ]
  },
  {
   "cell_type": "code",
   "execution_count": null,
   "id": "3dda4d3d",
   "metadata": {},
   "outputs": [
    {
     "name": "stdout",
     "output_type": "stream",
     "text": [
      "Matriz original:\n",
      "[1, 2, 3, 4]\n",
      "[5, 6, 7, 8]\n",
      "[9, 10, 11, 12]\n",
      "\n",
      "Matriz transpuesta (listas por comprensión):\n",
      "[1, 5, 9]\n",
      "[2, 6, 10]\n",
      "[3, 7, 11]\n",
      "[4, 8, 12]\n",
      "\n",
      "Matriz transpuesta (función zip):\n",
      "(1, 5, 9)\n",
      "(2, 6, 10)\n",
      "(3, 7, 11)\n",
      "(4, 8, 12)\n"
     ]
    }
   ],
   "source": [
    "# Matriz original\n",
    "matrix = [\n",
    "    [1, 2, 3, 4],\n",
    "    [5, 6, 7, 8],\n",
    "    [9, 10, 11, 12]\n",
    "]\n",
    "\n",
    "print(\"Matriz original:\")\n",
    "for row in matrix:\n",
    "    print(row)\n",
    "\n",
    "# Transposición usando listas por comprensión\n",
    "transposed = [[row[i] for row in matrix] for i in range(4)]\n",
    "\n",
    "print(\"\\nMatriz transpuesta (listas por comprensión):\")\n",
    "for row in transposed:\n",
    "    print(row)\n",
    "\n",
    "# Transposición usando la función zip\n",
    "transposed_zip = list(zip(*matrix))\n",
    "\n",
    "print(\"\\nMatriz transpuesta (función zip):\")\n",
    "for row in transposed_zip:\n",
    "    print(row)"
   ]
  }
 ],
 "metadata": {
  "kernelspec": {
   "display_name": "Python 3",
   "language": "python",
   "name": "python3"
  },
  "language_info": {
   "codemirror_mode": {
    "name": "ipython",
    "version": 3
   },
   "file_extension": ".py",
   "mimetype": "text/x-python",
   "name": "python",
   "nbconvert_exporter": "python",
   "pygments_lexer": "ipython3",
   "version": "3.13.7"
  }
 },
 "nbformat": 4,
 "nbformat_minor": 5
}
